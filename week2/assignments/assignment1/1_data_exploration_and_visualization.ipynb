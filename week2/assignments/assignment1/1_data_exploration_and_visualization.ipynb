{
 "cells": [
  {
   "cell_type": "markdown",
   "id": "f4c20bf9",
   "metadata": {},
   "source": [
    "## Load & Inspect"
   ]
  },
  {
   "cell_type": "code",
   "execution_count": 3,
   "id": "14a027a3",
   "metadata": {},
   "outputs": [],
   "source": [
    "# Importing necessary libraries\n",
    "import pandas as pd\n",
    "import matplotlib.pyplot as plt"
   ]
  },
  {
   "cell_type": "code",
   "execution_count": null,
   "id": "dc6189f9",
   "metadata": {},
   "outputs": [
    {
     "data": {
      "text/html": [
       "<div>\n",
       "<style scoped>\n",
       "    .dataframe tbody tr th:only-of-type {\n",
       "        vertical-align: middle;\n",
       "    }\n",
       "\n",
       "    .dataframe tbody tr th {\n",
       "        vertical-align: top;\n",
       "    }\n",
       "\n",
       "    .dataframe thead th {\n",
       "        text-align: right;\n",
       "    }\n",
       "</style>\n",
       "<table border=\"1\" class=\"dataframe\">\n",
       "  <thead>\n",
       "    <tr style=\"text-align: right;\">\n",
       "      <th></th>\n",
       "      <th>PassengerId</th>\n",
       "      <th>Survived</th>\n",
       "      <th>Pclass</th>\n",
       "      <th>Name</th>\n",
       "      <th>Sex</th>\n",
       "      <th>Age</th>\n",
       "      <th>SibSp</th>\n",
       "      <th>Parch</th>\n",
       "      <th>Ticket</th>\n",
       "      <th>Fare</th>\n",
       "      <th>Cabin</th>\n",
       "      <th>Embarked</th>\n",
       "    </tr>\n",
       "  </thead>\n",
       "  <tbody>\n",
       "    <tr>\n",
       "      <th>0</th>\n",
       "      <td>892</td>\n",
       "      <td>0</td>\n",
       "      <td>3</td>\n",
       "      <td>Kelly, Mr. James</td>\n",
       "      <td>male</td>\n",
       "      <td>34.5</td>\n",
       "      <td>0</td>\n",
       "      <td>0</td>\n",
       "      <td>330911</td>\n",
       "      <td>7.8292</td>\n",
       "      <td>NaN</td>\n",
       "      <td>Q</td>\n",
       "    </tr>\n",
       "    <tr>\n",
       "      <th>1</th>\n",
       "      <td>893</td>\n",
       "      <td>1</td>\n",
       "      <td>3</td>\n",
       "      <td>Wilkes, Mrs. James (Ellen Needs)</td>\n",
       "      <td>female</td>\n",
       "      <td>47.0</td>\n",
       "      <td>1</td>\n",
       "      <td>0</td>\n",
       "      <td>363272</td>\n",
       "      <td>7.0000</td>\n",
       "      <td>NaN</td>\n",
       "      <td>S</td>\n",
       "    </tr>\n",
       "    <tr>\n",
       "      <th>2</th>\n",
       "      <td>894</td>\n",
       "      <td>0</td>\n",
       "      <td>2</td>\n",
       "      <td>Myles, Mr. Thomas Francis</td>\n",
       "      <td>male</td>\n",
       "      <td>62.0</td>\n",
       "      <td>0</td>\n",
       "      <td>0</td>\n",
       "      <td>240276</td>\n",
       "      <td>9.6875</td>\n",
       "      <td>NaN</td>\n",
       "      <td>Q</td>\n",
       "    </tr>\n",
       "    <tr>\n",
       "      <th>3</th>\n",
       "      <td>895</td>\n",
       "      <td>0</td>\n",
       "      <td>3</td>\n",
       "      <td>Wirz, Mr. Albert</td>\n",
       "      <td>male</td>\n",
       "      <td>27.0</td>\n",
       "      <td>0</td>\n",
       "      <td>0</td>\n",
       "      <td>315154</td>\n",
       "      <td>8.6625</td>\n",
       "      <td>NaN</td>\n",
       "      <td>S</td>\n",
       "    </tr>\n",
       "    <tr>\n",
       "      <th>4</th>\n",
       "      <td>896</td>\n",
       "      <td>1</td>\n",
       "      <td>3</td>\n",
       "      <td>Hirvonen, Mrs. Alexander (Helga E Lindqvist)</td>\n",
       "      <td>female</td>\n",
       "      <td>22.0</td>\n",
       "      <td>1</td>\n",
       "      <td>1</td>\n",
       "      <td>3101298</td>\n",
       "      <td>12.2875</td>\n",
       "      <td>NaN</td>\n",
       "      <td>S</td>\n",
       "    </tr>\n",
       "  </tbody>\n",
       "</table>\n",
       "</div>"
      ],
      "text/plain": [
       "   PassengerId  Survived  Pclass  \\\n",
       "0          892         0       3   \n",
       "1          893         1       3   \n",
       "2          894         0       2   \n",
       "3          895         0       3   \n",
       "4          896         1       3   \n",
       "\n",
       "                                           Name     Sex   Age  SibSp  Parch  \\\n",
       "0                              Kelly, Mr. James    male  34.5      0      0   \n",
       "1              Wilkes, Mrs. James (Ellen Needs)  female  47.0      1      0   \n",
       "2                     Myles, Mr. Thomas Francis    male  62.0      0      0   \n",
       "3                              Wirz, Mr. Albert    male  27.0      0      0   \n",
       "4  Hirvonen, Mrs. Alexander (Helga E Lindqvist)  female  22.0      1      1   \n",
       "\n",
       "    Ticket     Fare Cabin Embarked  \n",
       "0   330911   7.8292   NaN        Q  \n",
       "1   363272   7.0000   NaN        S  \n",
       "2   240276   9.6875   NaN        Q  \n",
       "3   315154   8.6625   NaN        S  \n",
       "4  3101298  12.2875   NaN        S  "
      ]
     },
     "execution_count": 4,
     "metadata": {},
     "output_type": "execute_result"
    }
   ],
   "source": [
    "# Loading CSV file into a dataframe and showing the first 10 rows\n",
    "# Note: Titanic dataset used here is downloaded from kaggle dataset repository\n",
    "df = pd.read_csv(r\"C:\\Users\\devar\\Documents\\Dotkonnekt\\genai-workshop\\week2\\data\\titanic.csv\")\n",
    "df.head()"
   ]
  },
  {
   "cell_type": "code",
   "execution_count": 5,
   "id": "d01668e7",
   "metadata": {},
   "outputs": [
    {
     "name": "stdout",
     "output_type": "stream",
     "text": [
      "Shape of the DataFrame: (418, 12)\n",
      "Column Names: ['PassengerId', 'Survived', 'Pclass', 'Name', 'Sex', 'Age', 'SibSp', 'Parch', 'Ticket', 'Fare', 'Cabin', 'Embarked']\n",
      "Data Types:\n",
      " PassengerId      int64\n",
      "Survived         int64\n",
      "Pclass           int64\n",
      "Name            object\n",
      "Sex             object\n",
      "Age            float64\n",
      "SibSp            int64\n",
      "Parch            int64\n",
      "Ticket          object\n",
      "Fare           float64\n",
      "Cabin           object\n",
      "Embarked        object\n",
      "dtype: object\n"
     ]
    }
   ],
   "source": [
    "# Displaying shape, column names, and data types.\n",
    "print(\"Shape of the DataFrame:\", df.shape)\n",
    "print(\"Column Names:\", df.columns.tolist())\n",
    "print(\"Data Types:\\n\", df.dtypes)\n"
   ]
  },
  {
   "cell_type": "markdown",
   "id": "2cdd6ceb",
   "metadata": {},
   "source": [
    "## Summary Statistics"
   ]
  },
  {
   "cell_type": "code",
   "execution_count": 6,
   "id": "d9087e2d",
   "metadata": {},
   "outputs": [
    {
     "name": "stdout",
     "output_type": "stream",
     "text": [
      "Summary Statistics:\n",
      "        PassengerId    Survived      Pclass         Age       SibSp  \\\n",
      "count   418.000000  418.000000  418.000000  332.000000  418.000000   \n",
      "mean   1100.500000    0.363636    2.265550   30.272590    0.447368   \n",
      "std     120.810458    0.481622    0.841838   14.181209    0.896760   \n",
      "min     892.000000    0.000000    1.000000    0.170000    0.000000   \n",
      "25%     996.250000    0.000000    1.000000   21.000000    0.000000   \n",
      "50%    1100.500000    0.000000    3.000000   27.000000    0.000000   \n",
      "75%    1204.750000    1.000000    3.000000   39.000000    1.000000   \n",
      "max    1309.000000    1.000000    3.000000   76.000000    8.000000   \n",
      "\n",
      "            Parch        Fare  \n",
      "count  418.000000  417.000000  \n",
      "mean     0.392344   35.627188  \n",
      "std      0.981429   55.907576  \n",
      "min      0.000000    0.000000  \n",
      "25%      0.000000    7.895800  \n",
      "50%      0.000000   14.454200  \n",
      "75%      0.000000   31.500000  \n",
      "max      9.000000  512.329200  \n"
     ]
    }
   ],
   "source": [
    "# Description of the dataset\n",
    "print(\"Summary Statistics:\\n\", df.describe())"
   ]
  },
  {
   "cell_type": "code",
   "execution_count": 7,
   "id": "b6bed368",
   "metadata": {},
   "outputs": [
    {
     "name": "stdout",
     "output_type": "stream",
     "text": [
      "Missing Values:\n",
      " PassengerId      0\n",
      "Survived         0\n",
      "Pclass           0\n",
      "Name             0\n",
      "Sex              0\n",
      "Age             86\n",
      "SibSp            0\n",
      "Parch            0\n",
      "Ticket           0\n",
      "Fare             1\n",
      "Cabin          327\n",
      "Embarked         0\n",
      "dtype: int64\n"
     ]
    }
   ],
   "source": [
    "# Count missing values per column.\n",
    "print(\"Missing Values:\\n\", df.isna().sum())"
   ]
  },
  {
   "cell_type": "code",
   "execution_count": 8,
   "id": "739fd515",
   "metadata": {},
   "outputs": [
    {
     "name": "stderr",
     "output_type": "stream",
     "text": [
      "C:\\Users\\devar\\AppData\\Local\\Temp\\ipykernel_9276\\892171670.py:4: FutureWarning: A value is trying to be set on a copy of a DataFrame or Series through chained assignment using an inplace method.\n",
      "The behavior will change in pandas 3.0. This inplace method will never work because the intermediate object on which we are setting values always behaves as a copy.\n",
      "\n",
      "For example, when doing 'df[col].method(value, inplace=True)', try using 'df.method({col: value}, inplace=True)' or df[col] = df[col].method(value) instead, to perform the operation inplace on the original object.\n",
      "\n",
      "\n",
      "  df[column].fillna(df[column].mean(), inplace=True)\n"
     ]
    }
   ],
   "source": [
    "# Fill missing numeric values with the mean.\n",
    "for column in df.columns.tolist():\n",
    "    if df[column].isna().sum() > 0 and df[column].dtype in ['float64', 'int64']:\n",
    "        df[column].fillna(df[column].mean(), inplace=True)"
   ]
  },
  {
   "cell_type": "code",
   "execution_count": 9,
   "id": "0df790d3",
   "metadata": {},
   "outputs": [
    {
     "name": "stdout",
     "output_type": "stream",
     "text": [
      "Missing Values:\n",
      " PassengerId      0\n",
      "Survived         0\n",
      "Pclass           0\n",
      "Name             0\n",
      "Sex              0\n",
      "Age              0\n",
      "SibSp            0\n",
      "Parch            0\n",
      "Ticket           0\n",
      "Fare             0\n",
      "Cabin          327\n",
      "Embarked         0\n",
      "dtype: int64\n"
     ]
    }
   ],
   "source": [
    "print(\"Missing Values:\\n\", df.isna().sum())"
   ]
  },
  {
   "cell_type": "markdown",
   "id": "3524b15d",
   "metadata": {},
   "source": [
    "## Filtering & Sorting"
   ]
  },
  {
   "cell_type": "code",
   "execution_count": 10,
   "id": "9b652b06",
   "metadata": {},
   "outputs": [
    {
     "name": "stdout",
     "output_type": "stream",
     "text": [
      "Filtered DataFrame (Age > 30):\n",
      "     PassengerId  Survived  Pclass                              Name     Sex  \\\n",
      "0           892         0       3                  Kelly, Mr. James    male   \n",
      "1           893         1       3  Wilkes, Mrs. James (Ellen Needs)  female   \n",
      "2           894         0       2         Myles, Mr. Thomas Francis    male   \n",
      "10          902         0       3                  Ilieff, Mr. Ylio    male   \n",
      "11          903         0       1        Jones, Mr. Charles Cresson    male   \n",
      "\n",
      "         Age  SibSp  Parch  Ticket     Fare Cabin Embarked  \n",
      "0   34.50000      0      0  330911   7.8292   NaN        Q  \n",
      "1   47.00000      1      0  363272   7.0000   NaN        S  \n",
      "2   62.00000      0      0  240276   9.6875   NaN        Q  \n",
      "10  30.27259      0      0  349220   7.8958   NaN        S  \n",
      "11  46.00000      0      0     694  26.0000   NaN        S  \n"
     ]
    }
   ],
   "source": [
    "# Filter rows by a numeric condition (e.g., Age > 30)\n",
    "filtered_df = df[df['Age'] > 30]\n",
    "print(\"Filtered DataFrame (Age > 30):\\n\", filtered_df.head())"
   ]
  },
  {
   "cell_type": "code",
   "execution_count": 11,
   "id": "9db31b4a",
   "metadata": {},
   "outputs": [
    {
     "name": "stdout",
     "output_type": "stream",
     "text": [
      "Sorted DataFrame by PassengerId (Descending):\n",
      "      PassengerId  Survived  Pclass                          Name     Sex  \\\n",
      "417         1309         0       3      Peter, Master. Michael J    male   \n",
      "416         1308         0       3           Ware, Mr. Frederick    male   \n",
      "415         1307         0       3  Saether, Mr. Simon Sivertsen    male   \n",
      "414         1306         1       1  Oliva y Ocana, Dona. Fermina  female   \n",
      "413         1305         0       3            Spector, Mr. Woolf    male   \n",
      "\n",
      "          Age  SibSp  Parch              Ticket      Fare Cabin Embarked  \n",
      "417  30.27259      1      1                2668   22.3583   NaN        C  \n",
      "416  30.27259      0      0              359309    8.0500   NaN        S  \n",
      "415  38.50000      0      0  SOTON/O.Q. 3101262    7.2500   NaN        S  \n",
      "414  39.00000      0      0            PC 17758  108.9000  C105        C  \n",
      "413  30.27259      0      0           A.5. 3236    8.0500   NaN        S  \n"
     ]
    }
   ],
   "source": [
    "# Sort dataset by a column in descending order (eg. PassengerId).\n",
    "sorted_df = df.sort_values(by = 'PassengerId', ascending = False)\n",
    "print(\"Sorted DataFrame by PassengerId (Descending):\\n\", sorted_df.head())"
   ]
  },
  {
   "cell_type": "markdown",
   "id": "654b58f8",
   "metadata": {},
   "source": [
    "## Group by & Aggregate"
   ]
  },
  {
   "cell_type": "code",
   "execution_count": 12,
   "id": "de0fd34c",
   "metadata": {},
   "outputs": [
    {
     "name": "stdout",
     "output_type": "stream",
     "text": [
      "Grouped DataFrame (Mean Age):\n",
      "       Sex        Age\n",
      "0  female  30.272400\n",
      "1    male  30.272699\n"
     ]
    }
   ],
   "source": [
    "# Group by a categorical column, calculate mean of a numeric column ()\n",
    "grouped_df = df.groupby(\"Sex\")[\"Age\"].mean().reset_index()\n",
    "print(\"Grouped DataFrame (Mean Age):\\n\", grouped_df)"
   ]
  },
  {
   "cell_type": "markdown",
   "id": "3a9e232e",
   "metadata": {},
   "source": [
    "## Visualize"
   ]
  },
  {
   "cell_type": "code",
   "execution_count": 13,
   "id": "066fdb90",
   "metadata": {},
   "outputs": [
    {
     "data": {
      "image/png": "[encoded data removed]",
      "text/plain": [
       "<Figure size 640x480 with 1 Axes>"
      ]
     },
     "metadata": {},
     "output_type": "display_data"
    }
   ],
   "source": [
    "# Create a histogram for a numeric column\n",
    "plt.hist(x=df['Age'].dropna(), bins=20, color='green', edgecolor='black')  # dropna to avoid NaN issues\n",
    "\n",
    "plt.title(\"Age Distribution\")\n",
    "plt.xlabel(\"Age\")\n",
    "plt.ylabel(\"Frequency\")\n",
    "plt.show()"
   ]
  },
  {
   "cell_type": "code",
   "execution_count": 16,
   "id": "e3388bf5",
   "metadata": {},
   "outputs": [
    {
     "data": {
      "image/png": "[encoded data removed]",
      "text/plain": [
       "<Figure size 640x480 with 1 Axes>"
      ]
     },
     "metadata": {},
     "output_type": "display_data"
    }
   ],
   "source": [
    "# Create a bar chart of group averages\n",
    "plt.bar(grouped_df[\"Sex\"], grouped_df[\"Age\"], color=[\"green\", \"lightblue\"])\n",
    "plt.title(\"Mean Age by Sex\")\n",
    "plt.xlabel(\"Sex\")\n",
    "plt.ylabel(\"Mean Age\")\n",
    "plt.show()\n"
   ]
  },
  {
   "cell_type": "markdown",
   "id": "c4bbc7e9",
   "metadata": {},
   "source": [
    "## Extra Challenge"
   ]
  },
  {
   "cell_type": "code",
   "execution_count": 17,
   "id": "a8f82d98",
   "metadata": {},
   "outputs": [],
   "source": [
    "# Save the cleaned dataset as processed_data.csv\n",
    "df.to_csv(r\"C:\\Users\\devar\\Documents\\Dotkonnekt\\genai-workshop\\week2\\data\\processed_titanic.csv\", index=False)"
   ]
  },
  {
   "cell_type": "code",
   "execution_count": 18,
   "id": "121812d9",
   "metadata": {},
   "outputs": [
    {
     "name": "stdout",
     "output_type": "stream",
     "text": [
      "True\n"
     ]
    }
   ],
   "source": [
    "import os\n",
    "print(os.path.exists(r\"C:\\Users\\devar\\Documents\\Dotkonnekt\\genai-workshop\\week2\\data\\processed_titanic.csv\"))"
   ]
  }
 ],
 "metadata": {
  "kernelspec": {
   "display_name": "base",
   "language": "python",
   "name": "python3"
  },
  "language_info": {
   "codemirror_mode": {
    "name": "ipython",
    "version": 3
   },
   "file_extension": ".py",
   "mimetype": "text/x-python",
   "name": "python",
   "nbconvert_exporter": "python",
   "pygments_lexer": "ipython3",
   "version": "3.13.5"
  }
 },
 "nbformat": 4,
 "nbformat_minor": 5
}
